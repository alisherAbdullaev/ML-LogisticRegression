{
 "cells": [
  {
   "cell_type": "markdown",
   "metadata": {},
   "source": [
    "# Test Code for Project 01"
   ]
  },
  {
   "cell_type": "code",
   "execution_count": 1,
   "metadata": {},
   "outputs": [],
   "source": [
    "import numpy as np\n",
    "import matplotlib.pyplot as plt\n",
    "from ClassificationPlotter import plot_regions"
   ]
  },
  {
   "cell_type": "code",
   "execution_count": 2,
   "metadata": {},
   "outputs": [],
   "source": [
    "%run -i LogReg_Abdullaev.py"
   ]
  },
  {
   "cell_type": "code",
   "execution_count": 3,
   "metadata": {},
   "outputs": [],
   "source": [
    "np.set_printoptions(suppress=True, precision=4)"
   ]
  },
  {
   "cell_type": "markdown",
   "metadata": {},
   "source": [
    "## Test 01"
   ]
  },
  {
   "cell_type": "code",
   "execution_count": 4,
   "metadata": {},
   "outputs": [
    {
     "name": "stdout",
     "output_type": "stream",
     "text": [
      "+-------------------------------+\n",
      "|  Logistic Regression Summary  |\n",
      "+-------------------------------+\n",
      "Number of training observations: 100\n",
      "Coefficient Estimated: [ 0.7468  1.1882 -5.6538]\n",
      "Negative Log-likelihood: 26.4242\n",
      "Accuracy: 0.87\n"
     ]
    },
    {
     "data": {
      "image/png": "[encoded data removed]",
      "text/plain": [
       "<Figure size 432x288 with 1 Axes>"
      ]
     },
     "metadata": {
      "needs_background": "light"
     },
     "output_type": "display_data"
    }
   ],
   "source": [
    "from sklearn.datasets import make_moons, make_blobs\n",
    "\n",
    "np.random.seed(1)\n",
    "X1, y1 = make_moons(100, noise=0.1)\n",
    "\n",
    "model_01 = LogReg(X1, y1)\n",
    "\n",
    "model_01.summary()\n",
    "\n",
    "plot_regions(model_01, X1, y1)"
   ]
  },
  {
   "cell_type": "code",
   "execution_count": 5,
   "metadata": {},
   "outputs": [
    {
     "data": {
      "text/plain": [
       "array([[44,  6],\n",
       "       [ 7, 43]])"
      ]
     },
     "execution_count": 5,
     "metadata": {},
     "output_type": "execute_result"
    }
   ],
   "source": [
    "model_01.confusion_matrix(X1, y1)"
   ]
  },
  {
   "cell_type": "code",
   "execution_count": 6,
   "metadata": {},
   "outputs": [
    {
     "name": "stdout",
     "output_type": "stream",
     "text": [
      "Class: 0\n",
      "  Precision = 0.8627\n",
      "  Recall    = 0.88\n",
      "Class: 1\n",
      "  Precision = 0.8776\n",
      "  Recall    = 0.86\n"
     ]
    }
   ],
   "source": [
    "model_01.precision_recall(X1, y1)"
   ]
  },
  {
   "cell_type": "code",
   "execution_count": 7,
   "metadata": {},
   "outputs": [
    {
     "name": "stdout",
     "output_type": "stream",
     "text": [
      "[0.6785 0.0073 0.8738 0.0237]\n",
      "[1 0 1 0]\n"
     ]
    }
   ],
   "source": [
    "X_new = [[0,0],[0,1],[1,0],[1,1]]\n",
    "\n",
    "print(model_01.predict_proba(X_new))\n",
    "print(model_01.predict(X_new))\n"
   ]
  },
  {
   "cell_type": "markdown",
   "metadata": {},
   "source": [
    "## Test 02"
   ]
  },
  {
   "cell_type": "code",
   "execution_count": 8,
   "metadata": {},
   "outputs": [
    {
     "name": "stdout",
     "output_type": "stream",
     "text": [
      "+-------------------------------+\n",
      "|  Logistic Regression Summary  |\n",
      "+-------------------------------+\n",
      "Number of training observations: 12\n",
      "Coefficient Estimated: [ 5.9949  2.2997 -3.08  ]\n",
      "Negative Log-likelihood: 5.3703\n",
      "Accuracy: 0.75\n"
     ]
    }
   ],
   "source": [
    "import pandas as pd\n",
    "\n",
    "width = [6.4, 7.7, 6.7, 7.4, 6.5, 6.9, 7.8, 7.6, 6.2, 7.4, 7.7, 6.8]\n",
    "height = [8.2, 7.5, 6.6, 8.8, 6.8, 6.8, 7.6, 8.8, 8.4, 7.3, 7.4, 7.2]\n",
    "\n",
    "X2 = pd.DataFrame({'x1':width, 'x2':height})\n",
    "y2 = ['Lemon', 'Orange', 'Orange', 'Lemon', 'Orange', 'Lemon', \n",
    "     'Orange','Lemon', 'Lemon', 'Orange', 'Lemon', 'Lemon']\n",
    "\n",
    "model_02 = LogReg(X2, y2)\n",
    "model_02.summary()"
   ]
  },
  {
   "cell_type": "code",
   "execution_count": 9,
   "metadata": {},
   "outputs": [
    {
     "data": {
      "text/plain": [
       "array([[5, 2],\n",
       "       [1, 4]])"
      ]
     },
     "execution_count": 9,
     "metadata": {},
     "output_type": "execute_result"
    }
   ],
   "source": [
    "model_02.confusion_matrix(X2, y2)"
   ]
  },
  {
   "cell_type": "code",
   "execution_count": 10,
   "metadata": {},
   "outputs": [
    {
     "name": "stdout",
     "output_type": "stream",
     "text": [
      "Class: Lemon\n",
      "  Precision = 0.8333\n",
      "  Recall    = 0.7143\n",
      "Class: Orange\n",
      "  Precision = 0.6667\n",
      "  Recall    = 0.8\n"
     ]
    }
   ],
   "source": [
    "model_02.precision_recall(X2, y2)"
   ]
  },
  {
   "cell_type": "code",
   "execution_count": 11,
   "metadata": {},
   "outputs": [
    {
     "name": "stdout",
     "output_type": "stream",
     "text": [
      "Predictions for Test Set:\n",
      "[0.6977 0.1543 0.4424 0.7732 0.4063]\n",
      "['Orange' 'Lemon' 'Lemon' 'Orange' 'Lemon']\n"
     ]
    }
   ],
   "source": [
    "X_test = pd.DataFrame({'x1':[7.4, 7.1, 6.4, 6.9, 5.8], \n",
    "                       'x2':[7.2, 7.8, 6.8, 6.7, 6.4]})\n",
    "\n",
    "y_test = ['Orange', 'Orange', 'Lemon', 'Orange', 'Lemon']\n",
    "\n",
    "print('Predictions for Test Set:')\n",
    "print(model_02.predict_proba(X_test))\n",
    "print(model_02.predict(X_test))"
   ]
  },
  {
   "cell_type": "code",
   "execution_count": 12,
   "metadata": {},
   "outputs": [
    {
     "name": "stdout",
     "output_type": "stream",
     "text": [
      "Testing Accuracy: 0.8\n"
     ]
    }
   ],
   "source": [
    "print(\"Testing Accuracy:\", model_02.score(X_test,y_test))"
   ]
  },
  {
   "cell_type": "markdown",
   "metadata": {},
   "source": [
    "## Test 03"
   ]
  },
  {
   "cell_type": "code",
   "execution_count": 13,
   "metadata": {},
   "outputs": [
    {
     "name": "stdout",
     "output_type": "stream",
     "text": [
      "+-------------------------------+\n",
      "|  Logistic Regression Summary  |\n",
      "+-------------------------------+\n",
      "Number of training observations: 523\n",
      "Coefficient Estimated: [-0.7918 -0.2034  0.1211 -0.5592 -0.7225 -0.2742 -0.0484]\n",
      "Negative Log-likelihood: 278.8584\n",
      "Accuracy: 0.7553\n"
     ]
    }
   ],
   "source": [
    "from sklearn.datasets import make_classification\n",
    "\n",
    "np.random.seed(2)\n",
    "\n",
    "X3, y3 = make_classification(n_samples = 523, n_features = 6, n_informative = 4, \n",
    "                             n_redundant = 0, n_classes = 2)\n",
    "\n",
    "model_03 = LogReg(X3, y3)\n",
    "model_03.summary()"
   ]
  },
  {
   "cell_type": "code",
   "execution_count": 14,
   "metadata": {},
   "outputs": [
    {
     "data": {
      "text/plain": [
       "array([[204,  58],\n",
       "       [ 70, 191]])"
      ]
     },
     "execution_count": 14,
     "metadata": {},
     "output_type": "execute_result"
    }
   ],
   "source": [
    "model_03.confusion_matrix(X3, y3)"
   ]
  },
  {
   "cell_type": "code",
   "execution_count": 15,
   "metadata": {},
   "outputs": [
    {
     "name": "stdout",
     "output_type": "stream",
     "text": [
      "Class: 0\n",
      "  Precision = 0.7445\n",
      "  Recall    = 0.7786\n",
      "Class: 1\n",
      "  Precision = 0.7671\n",
      "  Recall    = 0.7318\n"
     ]
    }
   ],
   "source": [
    "model_03.precision_recall(X3, y3)"
   ]
  },
  {
   "cell_type": "code",
   "execution_count": 16,
   "metadata": {},
   "outputs": [
    {
     "name": "stdout",
     "output_type": "stream",
     "text": [
      "0.7131931166347992\n"
     ]
    }
   ],
   "source": [
    "print(model_03.score(X3, y3, t=0.3))"
   ]
  },
  {
   "cell_type": "code",
   "execution_count": 17,
   "metadata": {},
   "outputs": [
    {
     "data": {
      "text/plain": [
       "array([[130, 132],\n",
       "       [ 18, 243]])"
      ]
     },
     "execution_count": 17,
     "metadata": {},
     "output_type": "execute_result"
    }
   ],
   "source": [
    "model_03.confusion_matrix(X3, y3, t=0.3)"
   ]
  },
  {
   "cell_type": "code",
   "execution_count": 18,
   "metadata": {},
   "outputs": [
    {
     "name": "stdout",
     "output_type": "stream",
     "text": [
      "Class: 0\n",
      "  Precision = 0.8784\n",
      "  Recall    = 0.4962\n",
      "Class: 1\n",
      "  Precision = 0.648\n",
      "  Recall    = 0.931\n"
     ]
    }
   ],
   "source": [
    "model_03.precision_recall(X3, y3, t=0.3)"
   ]
  }
 ],
 "metadata": {
  "kernelspec": {
   "display_name": "Python 3",
   "language": "python",
   "name": "python3"
  },
  "language_info": {
   "codemirror_mode": {
    "name": "ipython",
    "version": 3
   },
   "file_extension": ".py",
   "mimetype": "text/x-python",
   "name": "python",
   "nbconvert_exporter": "python",
   "pygments_lexer": "ipython3",
   "version": "3.6.8"
  }
 },
 "nbformat": 4,
 "nbformat_minor": 2
}
